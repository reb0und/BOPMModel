{
 "cells": [
  {
   "cell_type": "markdown",
   "metadata": {},
   "source": [
    "# Binomial Option Pricing Model\n",
    "\n",
    "This project aims to estimate the fair price of American options using binomial option pricing. This model simulates numerous possible future price paths of an underlying asset and calculates the average payoff of the option which is then discounted to determine its price. "
   ]
  },
  {
   "cell_type": "code",
   "execution_count": 2,
   "metadata": {},
   "outputs": [],
   "source": [
    "import matplotlib.pyplot as plt\n",
    "import numpy as np\n",
    "import pandas as pd\n",
    "import seaborn as sns \n",
    "import yfinance as yf\n",
    "\n",
    "from typing import List, Tuple\n",
    "\n",
    "from data import fetch_data"
   ]
  },
  {
   "cell_type": "markdown",
   "metadata": {},
   "source": [
    "### Gathering Data\n",
    "\n",
    "Yahoo Finance was used to fetch all relevant stock data. Apple will be used as an example. Data was fetched over a 2 year period and contains daily records for market data. "
   ]
  },
  {
   "cell_type": "code",
   "execution_count": 3,
   "metadata": {},
   "outputs": [
    {
     "name": "stderr",
     "output_type": "stream",
     "text": [
      "[*********************100%%**********************]  1 of 1 completed\n",
      "\n"
     ]
    }
   ],
   "source": [
    "ticker = \"AAPL\"\n",
    "\n",
    "fetch_data(ticker)"
   ]
  },
  {
   "cell_type": "markdown",
   "metadata": {},
   "source": [
    "### Loading and Formatting Data"
   ]
  },
  {
   "cell_type": "code",
   "execution_count": 4,
   "metadata": {},
   "outputs": [
    {
     "data": {
      "text/html": [
       "<div>\n",
       "<style scoped>\n",
       "    .dataframe tbody tr th:only-of-type {\n",
       "        vertical-align: middle;\n",
       "    }\n",
       "\n",
       "    .dataframe tbody tr th {\n",
       "        vertical-align: top;\n",
       "    }\n",
       "\n",
       "    .dataframe thead th {\n",
       "        text-align: right;\n",
       "    }\n",
       "</style>\n",
       "<table border=\"1\" class=\"dataframe\">\n",
       "  <thead>\n",
       "    <tr style=\"text-align: right;\">\n",
       "      <th></th>\n",
       "      <th>Open</th>\n",
       "      <th>High</th>\n",
       "      <th>Low</th>\n",
       "      <th>Close</th>\n",
       "      <th>Adj Close</th>\n",
       "      <th>Volume</th>\n",
       "    </tr>\n",
       "    <tr>\n",
       "      <th>Date</th>\n",
       "      <th></th>\n",
       "      <th></th>\n",
       "      <th></th>\n",
       "      <th></th>\n",
       "      <th></th>\n",
       "      <th></th>\n",
       "    </tr>\n",
       "  </thead>\n",
       "  <tbody>\n",
       "    <tr>\n",
       "      <th>2023-08-23</th>\n",
       "      <td>178.520004</td>\n",
       "      <td>181.550003</td>\n",
       "      <td>178.330002</td>\n",
       "      <td>181.119995</td>\n",
       "      <td>180.197906</td>\n",
       "      <td>52722800</td>\n",
       "    </tr>\n",
       "    <tr>\n",
       "      <th>2023-08-24</th>\n",
       "      <td>180.669998</td>\n",
       "      <td>181.100006</td>\n",
       "      <td>176.009995</td>\n",
       "      <td>176.380005</td>\n",
       "      <td>175.482025</td>\n",
       "      <td>54945800</td>\n",
       "    </tr>\n",
       "    <tr>\n",
       "      <th>2023-08-25</th>\n",
       "      <td>177.380005</td>\n",
       "      <td>179.149994</td>\n",
       "      <td>175.820007</td>\n",
       "      <td>178.610001</td>\n",
       "      <td>177.700699</td>\n",
       "      <td>51449600</td>\n",
       "    </tr>\n",
       "    <tr>\n",
       "      <th>2023-08-28</th>\n",
       "      <td>180.089996</td>\n",
       "      <td>180.589996</td>\n",
       "      <td>178.550003</td>\n",
       "      <td>180.190002</td>\n",
       "      <td>179.272659</td>\n",
       "      <td>43820700</td>\n",
       "    </tr>\n",
       "    <tr>\n",
       "      <th>2023-08-29</th>\n",
       "      <td>179.699997</td>\n",
       "      <td>184.899994</td>\n",
       "      <td>179.500000</td>\n",
       "      <td>184.119995</td>\n",
       "      <td>183.182632</td>\n",
       "      <td>53003900</td>\n",
       "    </tr>\n",
       "    <tr>\n",
       "      <th>...</th>\n",
       "      <td>...</td>\n",
       "      <td>...</td>\n",
       "      <td>...</td>\n",
       "      <td>...</td>\n",
       "      <td>...</td>\n",
       "      <td>...</td>\n",
       "    </tr>\n",
       "    <tr>\n",
       "      <th>2024-08-16</th>\n",
       "      <td>223.919998</td>\n",
       "      <td>226.830002</td>\n",
       "      <td>223.649994</td>\n",
       "      <td>226.050003</td>\n",
       "      <td>226.050003</td>\n",
       "      <td>44340200</td>\n",
       "    </tr>\n",
       "    <tr>\n",
       "      <th>2024-08-19</th>\n",
       "      <td>225.720001</td>\n",
       "      <td>225.990005</td>\n",
       "      <td>223.039993</td>\n",
       "      <td>225.889999</td>\n",
       "      <td>225.889999</td>\n",
       "      <td>40687800</td>\n",
       "    </tr>\n",
       "    <tr>\n",
       "      <th>2024-08-20</th>\n",
       "      <td>225.770004</td>\n",
       "      <td>227.169998</td>\n",
       "      <td>225.449997</td>\n",
       "      <td>226.509995</td>\n",
       "      <td>226.509995</td>\n",
       "      <td>30299000</td>\n",
       "    </tr>\n",
       "    <tr>\n",
       "      <th>2024-08-21</th>\n",
       "      <td>226.520004</td>\n",
       "      <td>227.979996</td>\n",
       "      <td>225.050003</td>\n",
       "      <td>226.399994</td>\n",
       "      <td>226.399994</td>\n",
       "      <td>34765500</td>\n",
       "    </tr>\n",
       "    <tr>\n",
       "      <th>2024-08-22</th>\n",
       "      <td>227.789993</td>\n",
       "      <td>228.339996</td>\n",
       "      <td>223.899994</td>\n",
       "      <td>224.529999</td>\n",
       "      <td>224.529999</td>\n",
       "      <td>43665900</td>\n",
       "    </tr>\n",
       "  </tbody>\n",
       "</table>\n",
       "<p>252 rows × 6 columns</p>\n",
       "</div>"
      ],
      "text/plain": [
       "                  Open        High         Low       Close   Adj Close  \\\n",
       "Date                                                                     \n",
       "2023-08-23  178.520004  181.550003  178.330002  181.119995  180.197906   \n",
       "2023-08-24  180.669998  181.100006  176.009995  176.380005  175.482025   \n",
       "2023-08-25  177.380005  179.149994  175.820007  178.610001  177.700699   \n",
       "2023-08-28  180.089996  180.589996  178.550003  180.190002  179.272659   \n",
       "2023-08-29  179.699997  184.899994  179.500000  184.119995  183.182632   \n",
       "...                ...         ...         ...         ...         ...   \n",
       "2024-08-16  223.919998  226.830002  223.649994  226.050003  226.050003   \n",
       "2024-08-19  225.720001  225.990005  223.039993  225.889999  225.889999   \n",
       "2024-08-20  225.770004  227.169998  225.449997  226.509995  226.509995   \n",
       "2024-08-21  226.520004  227.979996  225.050003  226.399994  226.399994   \n",
       "2024-08-22  227.789993  228.339996  223.899994  224.529999  224.529999   \n",
       "\n",
       "              Volume  \n",
       "Date                  \n",
       "2023-08-23  52722800  \n",
       "2023-08-24  54945800  \n",
       "2023-08-25  51449600  \n",
       "2023-08-28  43820700  \n",
       "2023-08-29  53003900  \n",
       "...              ...  \n",
       "2024-08-16  44340200  \n",
       "2024-08-19  40687800  \n",
       "2024-08-20  30299000  \n",
       "2024-08-21  34765500  \n",
       "2024-08-22  43665900  \n",
       "\n",
       "[252 rows x 6 columns]"
      ]
     },
     "execution_count": 4,
     "metadata": {},
     "output_type": "execute_result"
    }
   ],
   "source": [
    "data = pd.read_csv(f\"./data/{ticker}.csv\", index_col=0, parse_dates=True)\n",
    "data.dropna()"
   ]
  },
  {
   "cell_type": "markdown",
   "metadata": {},
   "source": [
    "### Closing Prices Over Time"
   ]
  },
  {
   "cell_type": "code",
   "execution_count": 5,
   "metadata": {},
   "outputs": [
    {
     "data": {
      "image/png": "[encoded data removed]",
      "text/plain": [
       "<Figure size 1000x600 with 1 Axes>"
      ]
     },
     "metadata": {},
     "output_type": "display_data"
    }
   ],
   "source": [
    "plt.figure(figsize=(10, 6))\n",
    "plt.plot(data['Close'], label='Closing Price')\n",
    "plt.title('Closing Prices Over Time')\n",
    "plt.xlabel('Date')\n",
    "plt.ylabel('Price')\n",
    "plt.legend()\n",
    "plt.show()"
   ]
  },
  {
   "cell_type": "markdown",
   "metadata": {},
   "source": [
    "### Binomial Option Pricing Model Implemenation\n",
    "#### Parameters\n",
    "- `S_0` Current stock price\n",
    "- `option_type` Option type\n",
    "  - `0` Call\n",
    "  - `1` Put\n",
    "- `K` Strike price\n",
    "- `T` Time to maturity\n",
    "- `r` Risk-free rate\n",
    "- `v` Volatility\n",
    "- `n` Number of steps\n",
    "  - Increased number of steps provides accuracy at the cost of computation complexity "
   ]
  },
  {
   "cell_type": "code",
   "execution_count": 6,
   "metadata": {},
   "outputs": [],
   "source": [
    "S_0 = data[\"Close\"].iloc[-1]\n",
    "option_type = 0\n",
    "K = 1.0001 * S_0\n",
    "T = 1 / 52"
   ]
  },
  {
   "cell_type": "markdown",
   "metadata": {},
   "source": [
    "### Risk-free Rate\n",
    "The risk free-free rate is calculated by finding the yield on a Treasury bond that matches the duration of the option."
   ]
  },
  {
   "cell_type": "code",
   "execution_count": 7,
   "metadata": {},
   "outputs": [
    {
     "name": "stderr",
     "output_type": "stream",
     "text": [
      "[*********************100%%**********************]  1 of 1 completed\n",
      "\n"
     ]
    }
   ],
   "source": [
    "r = yf.download(\"^IRX\", period=\"5d\")['Close'].mean() / 100"
   ]
  },
  {
   "cell_type": "markdown",
   "metadata": {},
   "source": [
    "### Volatility\n",
    "An option's daily volatility is calculated by taking the standard deviation of the daily returns of an asset."
   ]
  },
  {
   "cell_type": "code",
   "execution_count": 8,
   "metadata": {},
   "outputs": [],
   "source": [
    "data[\"Daily Return\"] = data[\"Close\"].pct_change()\n",
    "data.dropna()\n",
    "\n",
    "v = data[\"Daily Return\"].std()"
   ]
  },
  {
   "cell_type": "markdown",
   "metadata": {},
   "source": [
    "### Number of Steps\n",
    "The number of steps in this model is directly correlated to accuracy. The more steps, the more accurate the model. However, this comes at the cost of computation complexity."
   ]
  },
  {
   "cell_type": "code",
   "execution_count": 9,
   "metadata": {},
   "outputs": [],
   "source": [
    "n = 10"
   ]
  },
  {
   "cell_type": "markdown",
   "metadata": {},
   "source": [
    "### Distribution of Daily Returns\n"
   ]
  },
  {
   "cell_type": "code",
   "execution_count": 10,
   "metadata": {},
   "outputs": [
    {
     "data": {
      "image/png": "[encoded data removed]",
      "text/plain": [
       "<Figure size 640x480 with 1 Axes>"
      ]
     },
     "metadata": {},
     "output_type": "display_data"
    }
   ],
   "source": [
    "sns.histplot(data['Daily Return'], kde=True)\n",
    "plt.title(\"Distribution of Daily Returns\")\n",
    "plt.show()"
   ]
  },
  {
   "cell_type": "markdown",
   "metadata": {},
   "source": [
    "### BOPM Parameters\n",
    "#### Up factor `u`\n",
    "`u` represents the potential increase in the price of the underlying asset during each time step in the model.\n",
    "\n",
    "$u = e^{\\sigma \\sqrt{\\Delta t}}$"
   ]
  },
  {
   "cell_type": "code",
   "execution_count": 11,
   "metadata": {},
   "outputs": [],
   "source": [
    "u = np.exp(v * np.sqrt(T / n))"
   ]
  },
  {
   "cell_type": "markdown",
   "metadata": {},
   "source": [
    "\n",
    "#### Down factor `d`\n",
    "`d` represents the potential decrease in the price of the underlying asset during each time step in the model.\n",
    "\n",
    "$d = \\frac{1}{u}$"
   ]
  },
  {
   "cell_type": "code",
   "execution_count": 12,
   "metadata": {},
   "outputs": [],
   "source": [
    "d = 1 / u"
   ]
  },
  {
   "cell_type": "markdown",
   "metadata": {},
   "source": [
    "#### Risk-neutral probability `p`\n",
    "`p` represents the probability, in a risk-neutral world, that the stock price will increase in the next step. \n",
    "\n",
    "$p = \\frac{e^{r \\Delta t} - d}{u - d}$"
   ]
  },
  {
   "cell_type": "code",
   "execution_count": 13,
   "metadata": {},
   "outputs": [],
   "source": [
    "p = (np.exp(r * (T / n)) - d) / (u - d)"
   ]
  },
  {
   "cell_type": "markdown",
   "metadata": {},
   "source": [
    "## Binomial Tree Implementation\n",
    "### Stock Price Calculation\n",
    "Each node of the tree is represented as a tuple (Stock Price, Option Value)."
   ]
  },
  {
   "cell_type": "code",
   "execution_count": 14,
   "metadata": {},
   "outputs": [
    {
     "name": "stdout",
     "output_type": "stream",
     "text": [
      "224.52999877929688 224.5524517791748 0.019230769230769232 0.014289229959476213 0.050402000427246095 10\n"
     ]
    }
   ],
   "source": [
    "tree: List[List[Tuple[float, float]]] = [[(0, 0) for _ in range(i + 1)] for i in range(n + 1)]\n",
    "print(S_0, K, T, v, r, n)\n",
    "tree[0][0] = (S_0, 0)\n",
    "\n",
    "for i in range(1, n + 1):\n",
    "    for j in range(i + 1):\n",
    "        if j == 0:\n",
    "            tree[i][j] = (tree[i - 1][j][0] * u, 0)\n",
    "        else:\n",
    "            tree[i][j] = (tree[i - 1][j - 1][0] * d, 0)"
   ]
  },
  {
   "cell_type": "markdown",
   "metadata": {},
   "source": [
    "### Option Payoffs at Maturity"
   ]
  },
  {
   "cell_type": "code",
   "execution_count": 15,
   "metadata": {},
   "outputs": [],
   "source": [
    "for j in range(n + 1):\n",
    "    if (option_type == 0):\n",
    "        tree[n][j] = (tree[n][j][0], max(0, tree[n][j][0] - K))\n",
    "    else:\n",
    "        tree[n][j] = (tree[n][j][0], max(0, K - tree[n][j][0]))\n"
   ]
  },
  {
   "cell_type": "markdown",
   "metadata": {},
   "source": [
    "### Option Value Population"
   ]
  },
  {
   "cell_type": "code",
   "execution_count": 16,
   "metadata": {},
   "outputs": [
    {
     "name": "stdout",
     "output_type": "stream",
     "text": [
      "0.08019996068591496\n",
      "0.12909852020604917\n",
      "0.2005353491686895\n",
      "0.2989618303058701\n",
      "0.42531576082014366\n",
      "0.5745910571824717\n",
      "0.7360085199852973\n",
      "0.8990129706655081\n",
      "1.0621668970211835\n",
      "1.2254704232126892\n",
      "1.3889236735024042\n"
     ]
    }
   ],
   "source": [
    "for k in range(n - 1, -1, -1):\n",
    "    for h in range(k + 1):\n",
    "        tree[k][h] = (tree[k][h][0], np.exp(-r * (T / n)) * (p * tree[k + 1][h + 1][1] + (1 - p) * tree[k + 1][h][1]))\n",
    "\n",
    "\n",
    "for l in range(n+1):\n",
    "    print(tree[l][0][1])"
   ]
  },
  {
   "cell_type": "markdown",
   "metadata": {},
   "source": [
    "### Conclusions"
   ]
  },
  {
   "cell_type": "code",
   "execution_count": 17,
   "metadata": {},
   "outputs": [
    {
     "name": "stdout",
     "output_type": "stream",
     "text": [
      "0.08019996068591496\n"
     ]
    }
   ],
   "source": [
    "print(tree[0][0][1])"
   ]
  }
 ],
 "metadata": {
  "kernelspec": {
   "display_name": "venv",
   "language": "python",
   "name": "python3"
  },
  "language_info": {
   "codemirror_mode": {
    "name": "ipython",
    "version": 3
   },
   "file_extension": ".py",
   "mimetype": "text/x-python",
   "name": "python",
   "nbconvert_exporter": "python",
   "pygments_lexer": "ipython3",
   "version": "3.12.3"
  }
 },
 "nbformat": 4,
 "nbformat_minor": 2
}
